{
 "cells": [
  {
   "cell_type": "code",
   "execution_count": 9,
   "metadata": {},
   "outputs": [
    {
     "name": "stdout",
     "output_type": "stream",
     "text": [
      "5\n"
     ]
    }
   ],
   "source": [
    "my_list=[2,5,6,5] # fonksiyon output olarak 5 verecek (birden fazla devam eden eleman).\n",
    "\n",
    "a=my_list.count(my_list[0])\n",
    "b=my_list.count(my_list[1])\n",
    "c=my_list.count(my_list[2])\n",
    "d=my_list.count(my_list[3])\n",
    "\n",
    "# print(a)\n",
    "# print(b)\n",
    "# print(c)\n",
    "# print(d)\n",
    "\n",
    "if b==d:\n",
    "    print(my_list[1])"
   ]
  },
  {
   "cell_type": "code",
   "execution_count": 13,
   "metadata": {},
   "outputs": [
    {
     "name": "stdout",
     "output_type": "stream",
     "text": [
      "2\n"
     ]
    }
   ],
   "source": [
    "my_list2=[1,2,3,305,4,2] # fonksiyon output olarak 2 verecek (birden fazla devam eden eleman).\n",
    "\n",
    "a=my_list2.count(my_list2[0])\n",
    "b=my_list2.count(my_list2[1])\n",
    "c=my_list2.count(my_list2[2])\n",
    "d=my_list2.count(my_list2[3])\n",
    "e=my_list2.count(my_list2[4])\n",
    "f=my_list2.count(my_list2[5])\n",
    "\n",
    "# print(a)\n",
    "# print(b)\n",
    "# print(c)\n",
    "# print(d)\n",
    "# print(e)\n",
    "# print(f)\n",
    "\n",
    "if b==f:\n",
    "    print(my_list2[1])"
   ]
  }
 ],
 "metadata": {
  "kernelspec": {
   "display_name": "Python 3",
   "language": "python",
   "name": "python3"
  },
  "language_info": {
   "codemirror_mode": {
    "name": "ipython",
    "version": 3
   },
   "file_extension": ".py",
   "mimetype": "text/x-python",
   "name": "python",
   "nbconvert_exporter": "python",
   "pygments_lexer": "ipython3",
   "version": "3.7.1"
  }
 },
 "nbformat": 4,
 "nbformat_minor": 2
}
